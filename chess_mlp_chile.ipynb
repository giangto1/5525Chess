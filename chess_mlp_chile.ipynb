{
 "cells": [
  {
   "cell_type": "code",
   "execution_count": 8,
   "metadata": {},
   "outputs": [],
   "source": [
    "from sklearn.neural_network import MLPClassifier\n",
    "from sklearn.metrics import accuracy_score, precision_score, recall_score, f1_score, confusion_matrix, classification_report\n",
    "from sklearn.model_selection import train_test_split\n",
    "from sklearn.preprocessing import StandardScaler\n",
    "\n",
    "import os\n",
    "import glob\n",
    "import numpy as np\n",
    "import pandas as pd"
   ]
  },
  {
   "cell_type": "markdown",
   "metadata": {},
   "source": [
    "## MLP 128 x 128 (no resize)"
   ]
  },
  {
   "cell_type": "markdown",
   "metadata": {},
   "source": [
    "### 1. Split Dataset"
   ]
  },
  {
   "cell_type": "code",
   "execution_count": 4,
   "metadata": {},
   "outputs": [],
   "source": [
    "current = os.getcwd()\n",
    "data_folder = os.path.join(current, \"normalized_images_no_resize_128\")\n",
    "chess_types_folders = glob.glob(os.path.join(data_folder, \"*\"))\n",
    "pieces_info = []\n",
    "labels = {\"King\": 1, \"Knight\":2, \"Bishop\":3, \"Rook\":4, \"Pawn\":5, \"Queen\":6}\n",
    "for chess_types in chess_types_folders:\n",
    "    pieces = glob.glob(f'{chess_types}/*')\n",
    "    # print(pieces)\n",
    "    type = chess_types.split(\"/\")[-1]\n",
    "    for piece in pieces:\n",
    "        p = {\"normalized_img\": np.load(piece).reshape(-1), \"label\": labels[type]}\n",
    "        pieces_info.append(p)\n",
    "chess_df = pd.DataFrame(pieces_info)"
   ]
  },
  {
   "cell_type": "code",
   "execution_count": 9,
   "metadata": {},
   "outputs": [
    {
     "data": {
      "text/plain": [
       "(170, 50176)"
      ]
     },
     "execution_count": 9,
     "metadata": {},
     "output_type": "execute_result"
    }
   ],
   "source": [
    "chess_1 = chess_df[chess_df['label'] == 1]\n",
    "chess_2 = chess_df[chess_df['label'] == 2]\n",
    "chess_3 = chess_df[chess_df['label'] == 3]\n",
    "chess_4 = chess_df[chess_df['label'] == 4]\n",
    "chess_5 = chess_df[chess_df['label'] == 5]\n",
    "chess_6 = chess_df[chess_df['label'] == 6]\n",
    "\n",
    "train_df_1, test_df_1 = train_test_split(chess_1, test_size=0.3, random_state=1)\n",
    "train_df_2, test_df_2 = train_test_split(chess_2, test_size=0.3, random_state=1)\n",
    "train_df_3, test_df_3 = train_test_split(chess_3, test_size=0.3, random_state=1)\n",
    "train_df_4, test_df_4 = train_test_split(chess_4, test_size=0.3, random_state=1)\n",
    "train_df_5, test_df_5 = train_test_split(chess_5, test_size=0.3, random_state=1)\n",
    "train_df_6, test_df_6 = train_test_split(chess_6, test_size=0.3, random_state=1)\n",
    "\n",
    "train_dfs_list = [train_df_1, train_df_2, train_df_3, train_df_4, train_df_5, train_df_6]\n",
    "test_dfs_list = [test_df_1, test_df_2, test_df_3, test_df_4, test_df_5, test_df_6]\n",
    "\n",
    "train_df = pd.concat(train_dfs_list, ignore_index=True)\n",
    "test_df = pd.concat(test_dfs_list, ignore_index=True)\n",
    "\n",
    "# Load dataset\n",
    "X_train, y_train = np.array(train_df['normalized_img']), np.array(train_df['label'])\n",
    "X_test, y_test = np.array(test_df['normalized_img']), np.array(test_df['label'])\n",
    "\n",
    "X_train = np.array([x for x in X_train])\n",
    "X_test = np.array([x for x in X_test])\n",
    "scaler = StandardScaler()\n",
    "X_train = scaler.fit_transform(X_train)\n",
    "X_test = scaler.transform(X_test)\n",
    "X_test.shape"
   ]
  },
  {
   "cell_type": "markdown",
   "metadata": {},
   "source": [
    "### 2. MLP"
   ]
  },
  {
   "cell_type": "code",
   "execution_count": 13,
   "metadata": {},
   "outputs": [
    {
     "name": "stdout",
     "output_type": "stream",
     "text": [
      "Test Error: 0.6412\n",
      "Accuracy: 0.3588\n",
      "Precision: 0.3526\n",
      "Recall: 0.3588\n",
      "F1 Score: 0.3525\n",
      "\n",
      "Confusion Matrix:\n",
      "[[ 8  1  6  2  1  5]\n",
      " [ 3 18  2  7  2  0]\n",
      " [ 7  7  7  1  3  2]\n",
      " [ 3  4  2 13  7  2]\n",
      " [ 3  3  6  7 11  3]\n",
      " [ 5  6  3  2  4  4]]\n",
      "\n",
      "Classification Report:\n",
      "              precision    recall  f1-score   support\n",
      "\n",
      "           1       0.28      0.35      0.31        23\n",
      "           2       0.46      0.56      0.51        32\n",
      "           3       0.27      0.26      0.26        27\n",
      "           4       0.41      0.42      0.41        31\n",
      "           5       0.39      0.33      0.36        33\n",
      "           6       0.25      0.17      0.20        24\n",
      "\n",
      "    accuracy                           0.36       170\n",
      "   macro avg       0.34      0.35      0.34       170\n",
      "weighted avg       0.35      0.36      0.35       170\n",
      "\n"
     ]
    }
   ],
   "source": [
    "mlp = MLPClassifier(hidden_layer_sizes=(1024, 512, 128), activation='relu', solver='adam', max_iter=500, random_state=1)\n",
    "mlp.fit(X_train, y_train)\n",
    "\n",
    "# Predict on test set\n",
    "y_test_pred = mlp.predict(X_test)\n",
    "\n",
    "final_test_error = 1 - accuracy_score(y_test, y_test_pred)\n",
    "\n",
    "accuracy = accuracy_score(y_test, y_test_pred)\n",
    "precision = precision_score(y_test, y_test_pred, average='weighted')  # Use 'macro' or 'weighted' for multi-class\n",
    "recall = recall_score(y_test, y_test_pred, average='weighted')\n",
    "f1 = f1_score(y_test, y_test_pred, average='weighted')\n",
    "conf_matrix = confusion_matrix(y_test, y_test_pred)\n",
    "\n",
    "print(f\"Test Error: {final_test_error:.4f}\")\n",
    "print(f\"Accuracy: {accuracy:.4f}\")\n",
    "print(f\"Precision: {precision:.4f}\")\n",
    "print(f\"Recall: {recall:.4f}\")\n",
    "print(f\"F1 Score: {f1:.4f}\")\n",
    "print(\"\\nConfusion Matrix:\")\n",
    "print(conf_matrix)\n",
    "\n",
    "print(\"\\nClassification Report:\")\n",
    "print(classification_report(y_test, y_test_pred))\n",
    "# labels = {\"King\": 1, \"Knight\":2, \"Bishop\":3, \"Rook\":4, \"Pawn\":5, \"Queen\":6}\n"
   ]
  },
  {
   "cell_type": "code",
   "execution_count": null,
   "metadata": {},
   "outputs": [],
   "source": []
  }
 ],
 "metadata": {
  "kernelspec": {
   "display_name": "Python 3",
   "language": "python",
   "name": "python3"
  },
  "language_info": {
   "codemirror_mode": {
    "name": "ipython",
    "version": 3
   },
   "file_extension": ".py",
   "mimetype": "text/x-python",
   "name": "python",
   "nbconvert_exporter": "python",
   "pygments_lexer": "ipython3",
   "version": "3.13.0"
  }
 },
 "nbformat": 4,
 "nbformat_minor": 2
}
