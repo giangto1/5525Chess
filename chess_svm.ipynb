{
 "cells": [
  {
   "cell_type": "code",
   "execution_count": 41,
   "id": "18d263b1-844d-4df0-98bd-d314a7461249",
   "metadata": {},
   "outputs": [],
   "source": [
    "from sklearn.svm import SVC\n",
    "from sklearn.datasets import make_classification\n",
    "import numpy as np\n",
    "import os\n",
    "import glob\n",
    "import pandas as pd\n",
    "from sklearn.metrics import accuracy_score, precision_score, recall_score, f1_score, confusion_matrix, classification_report\n",
    "from sklearn.model_selection import StratifiedKFold"
   ]
  },
  {
   "cell_type": "code",
   "execution_count": 6,
   "id": "9fc1758b-ab3a-431e-85bd-ec4820a68050",
   "metadata": {},
   "outputs": [
    {
     "name": "stdout",
     "output_type": "stream",
     "text": [
      "C:\\Users\\giang\\Downloads\\chess\\5525Chess\n"
     ]
    }
   ],
   "source": [
    "print(os.getcwd())\n",
    "current = os.getcwd()\n",
    "data_folder = current + \"\\\\normalized_images\"\n",
    "chess_types_folders = glob.glob(data_folder + \"\\\\*\")\n",
    "# print(chess_types_folders)\n",
    "pieces_info = []\n",
    "labels = {\"King\": 1, \"Knight\":2, \"Bishop\":3, \"Rook\":4, \"Pawn\":5, \"Queen\":6}\n",
    "for chess_types in chess_types_folders:\n",
    "    pieces = glob.glob(f'{chess_types}/*')\n",
    "    # print(pieces)\n",
    "    type = chess_types.split(\"\\\\\")[-1]\n",
    "    for piece in pieces:\n",
    "        p = {\"normalized_img\": np.load(piece).reshape(-1), \"label\": labels[type]}\n",
    "        pieces_info.append(p)\n",
    "chess_df = pd.DataFrame(pieces_info)"
   ]
  },
  {
   "cell_type": "code",
   "execution_count": 7,
   "id": "20fbe84d-8986-4331-a428-b45e1b918300",
   "metadata": {},
   "outputs": [
    {
     "data": {
      "text/html": [
       "<div>\n",
       "<style scoped>\n",
       "    .dataframe tbody tr th:only-of-type {\n",
       "        vertical-align: middle;\n",
       "    }\n",
       "\n",
       "    .dataframe tbody tr th {\n",
       "        vertical-align: top;\n",
       "    }\n",
       "\n",
       "    .dataframe thead th {\n",
       "        text-align: right;\n",
       "    }\n",
       "</style>\n",
       "<table border=\"1\" class=\"dataframe\">\n",
       "  <thead>\n",
       "    <tr style=\"text-align: right;\">\n",
       "      <th></th>\n",
       "      <th>normalized_img</th>\n",
       "      <th>label</th>\n",
       "    </tr>\n",
       "  </thead>\n",
       "  <tbody>\n",
       "    <tr>\n",
       "      <th>0</th>\n",
       "      <td>[0.3803921568627451, 0.3803921568627451, 0.376...</td>\n",
       "      <td>3</td>\n",
       "    </tr>\n",
       "    <tr>\n",
       "      <th>1</th>\n",
       "      <td>[1.0, 1.0, 1.0, 1.0, 1.0, 1.0, 1.0, 1.0, 1.0, ...</td>\n",
       "      <td>3</td>\n",
       "    </tr>\n",
       "    <tr>\n",
       "      <th>2</th>\n",
       "      <td>[0.1568627450980392, 0.1568627450980392, 0.156...</td>\n",
       "      <td>3</td>\n",
       "    </tr>\n",
       "    <tr>\n",
       "      <th>3</th>\n",
       "      <td>[1.0, 1.0, 1.0, 1.0, 1.0, 1.0, 1.0, 1.0, 1.0, ...</td>\n",
       "      <td>3</td>\n",
       "    </tr>\n",
       "    <tr>\n",
       "      <th>4</th>\n",
       "      <td>[0.27058823529411763, 0.27450980392156865, 0.2...</td>\n",
       "      <td>3</td>\n",
       "    </tr>\n",
       "  </tbody>\n",
       "</table>\n",
       "</div>"
      ],
      "text/plain": [
       "                                      normalized_img  label\n",
       "0  [0.3803921568627451, 0.3803921568627451, 0.376...      3\n",
       "1  [1.0, 1.0, 1.0, 1.0, 1.0, 1.0, 1.0, 1.0, 1.0, ...      3\n",
       "2  [0.1568627450980392, 0.1568627450980392, 0.156...      3\n",
       "3  [1.0, 1.0, 1.0, 1.0, 1.0, 1.0, 1.0, 1.0, 1.0, ...      3\n",
       "4  [0.27058823529411763, 0.27450980392156865, 0.2...      3"
      ]
     },
     "execution_count": 7,
     "metadata": {},
     "output_type": "execute_result"
    }
   ],
   "source": [
    "chess_df.head()"
   ]
  },
  {
   "cell_type": "code",
   "execution_count": 8,
   "id": "c292719e-7e69-41ba-8a3e-f1dcc6fbd39f",
   "metadata": {},
   "outputs": [
    {
     "data": {
      "text/plain": [
       "(5,)"
      ]
     },
     "execution_count": 8,
     "metadata": {},
     "output_type": "execute_result"
    }
   ],
   "source": [
    "chess_df.iloc[0:5]['normalized_img'].shape #dim of 1 single image"
   ]
  },
  {
   "cell_type": "code",
   "execution_count": 9,
   "id": "04cc4226-bb47-4d16-8bff-fdcebad37664",
   "metadata": {},
   "outputs": [
    {
     "data": {
      "text/plain": [
       "array([0.38039216, 0.38039216, 0.37647059, ..., 0.7372549 , 0.71764706,\n",
       "       0.70588235])"
      ]
     },
     "execution_count": 9,
     "metadata": {},
     "output_type": "execute_result"
    }
   ],
   "source": [
    "chess_df.iloc[0]['normalized_img']"
   ]
  },
  {
   "cell_type": "code",
   "execution_count": 27,
   "id": "f945153b-37fb-4477-ae87-09af1eeec8d7",
   "metadata": {},
   "outputs": [],
   "source": [
    "#Load dataset\n",
    "X, y = np.array(chess_df['normalized_img']), np.array(chess_df['label'])\n",
    "X = np.array([x for x in X])\n",
    "from sklearn.model_selection import train_test_split\n",
    "X_train, X_test, y_train, y_test = train_test_split(X, y, test_size=0.3, random_state=42)\n",
    "from sklearn.preprocessing import StandardScaler\n",
    "scaler = StandardScaler()\n",
    "X_train = scaler.fit_transform(X_train)\n",
    "X_test = scaler.transform(X_test)"
   ]
  },
  {
   "cell_type": "code",
   "execution_count": 43,
   "id": "cbc0472e-651b-49c3-8eba-d58f828fb7e6",
   "metadata": {},
   "outputs": [
    {
     "name": "stdout",
     "output_type": "stream",
     "text": [
      "C = 0.01: (avg train error, avg validation error) = (0.0000, 0.0000)\n",
      "C = 0.1: (avg train error, avg validation error) = (0.0000, 0.0000)\n",
      "C = 1.0: (avg train error, avg validation error) = (0.0000, 0.0000)\n",
      "C = 10: (avg train error, avg validation error) = (0.0000, 0.0000)\n",
      "C = 100: (avg train error, avg validation error) = (0.0000, 0.0000)\n",
      "Best C = 0.01, with lowest avg test error: 0.0000\n",
      "Final Test Error: 0.7821\n"
     ]
    }
   ],
   "source": [
    "#Selecting best C for Linear SVM Model\n",
    "C_values = [0.01, 0.1, 1.0, 10, 100]\n",
    "cv_val_avg_score = []\n",
    "skf = StratifiedKFold(n_splits=5, shuffle=True, random_state=1)\n",
    "\n",
    "for C in C_values:\n",
    "\ttrain_errors = []\n",
    "\tval_errors = []\n",
    "\tfor train_idx, val_idx in skf.split(X_train, y_train):\n",
    "\t\tX_train_cv, X_val = X_train[train_idx], X_train[val_idx]\n",
    "\t\ty_train_cv, y_val = y_train[train_idx], y_train[val_idx]\n",
    "\t\tlin_svm = SVC(kernel='linear',C=C)\n",
    "\t\tlin_svm.fit(X_train, y_train)\n",
    "\t\t# validation error\n",
    "\t\ty_val_pred = lin_svm.predict(X_val)\n",
    "\t\tval_error = 1 - accuracy_score(y_val, y_val_pred)\n",
    "\t\tval_errors.append(val_error)\n",
    "\n",
    "\t\t# train error\n",
    "\t\ty_train_pred = lin_svm.predict(X_train_cv)\n",
    "\t\ttrain_error = 1 - accuracy_score(y_train_cv, y_train_pred)\n",
    "\t\ttrain_errors.append(train_error)\n",
    "\n",
    "\tavg_val_error = np.mean(val_errors)\n",
    "\tavg_train_error = np.mean(train_errors)\n",
    "\n",
    "\t# Report validation, test for each C\n",
    "\tprint(f\"C = {C}: (avg train error, avg validation error) = ({avg_train_error:.4f}, {avg_val_error:.4f})\")\n",
    "\n",
    "\tcv_val_avg_score.append(avg_val_error)\n",
    "\n",
    "\n",
    "\n"
   ]
  },
  {
   "cell_type": "code",
   "execution_count": 46,
   "id": "595bdf49-7f0f-4523-adf1-450fcc8b9bfc",
   "metadata": {},
   "outputs": [
    {
     "name": "stdout",
     "output_type": "stream",
     "text": [
      "Best C = 0.01, with lowest avg test error: 0.0000\n",
      "Final Test Error: 0.7821\n",
      "Linear SVM Performance Metrics with C=0.01:\n",
      "Accuracy: 0.2179\n",
      "Precision: 0.2174\n",
      "Recall: 0.2179\n",
      "F1 Score: 0.2161\n",
      "\n",
      "Confusion Matrix:\n",
      "[[ 9  7  3  3  6  4]\n",
      " [ 9 12  7  9  8  2]\n",
      " [ 5  5 10  8 10  4]\n",
      " [ 9  8  7 11 11  6]\n",
      " [ 5  7  7 10 11  9]\n",
      " [10  9  7  3  3  3]]\n",
      "\n",
      "Classification Report:\n",
      "              precision    recall  f1-score   support\n",
      "\n",
      "           1       0.20      0.28      0.23        32\n",
      "           2       0.24      0.26      0.25        47\n",
      "           3       0.25      0.26      0.26        42\n",
      "           4       0.24      0.19      0.21        52\n",
      "           5       0.23      0.22      0.23        49\n",
      "           6       0.11      0.09      0.10        35\n",
      "\n",
      "    accuracy                           0.22       257\n",
      "   macro avg       0.21      0.22      0.21       257\n",
      "weighted avg       0.22      0.22      0.22       257\n",
      "\n"
     ]
    }
   ],
   "source": [
    "#Fit linear model on best C\n",
    "lowest_val_error_index = np.argmin(cv_val_avg_score)\n",
    "C_chosen = C_values[lowest_val_error_index]\n",
    "\n",
    "print(f\"Best C = {C_chosen}, with lowest avg test error: {cv_val_avg_score[lowest_val_error_index]:.4f}\")\n",
    "\n",
    "\n",
    "final_model = SVC(kernel='linear',C=C_chosen)\n",
    "final_model.fit(X_train, y_train)\n",
    "\n",
    "y_test_pred = final_model.predict(X_test)\n",
    "final_test_error = 1 - accuracy_score(y_test, y_test_pred)\n",
    "\n",
    "accuracy = accuracy_score(y_test, y_test_pred)\n",
    "precision = precision_score(y_test, y_test_pred, average='weighted')  # Use 'macro' or 'weighted' for multi-class\n",
    "recall = recall_score(y_test, y_test_pred, average='weighted')\n",
    "f1 = f1_score(y_test, y_test_pred, average='weighted')\n",
    "conf_matrix = confusion_matrix(y_test, y_test_pred)\n",
    "\n",
    "print(f\"Final Test Error: {final_test_error:.4f}\")\n",
    "print(f\"Linear SVM Performance Metrics with C={C_chosen}:\")\n",
    "print(f\"Accuracy: {accuracy:.4f}\")\n",
    "print(f\"Precision: {precision:.4f}\")\n",
    "print(f\"Recall: {recall:.4f}\")\n",
    "print(f\"F1 Score: {f1:.4f}\")\n",
    "print(\"\\nConfusion Matrix:\")\n",
    "print(conf_matrix)\n",
    "\n",
    "print(\"\\nClassification Report:\")\n",
    "print(classification_report(y_test, y_pred))"
   ]
  },
  {
   "cell_type": "code",
   "execution_count": 48,
   "id": "cfd9167d-5723-46c7-a81b-92988a237983",
   "metadata": {},
   "outputs": [
    {
     "name": "stdout",
     "output_type": "stream",
     "text": [
      "C = 0.01: (avg train error, avg validation error) = (0.8180, 0.8180)\n",
      "C = 0.1: (avg train error, avg validation error) = (0.8063, 0.8063)\n",
      "C = 1.0: (avg train error, avg validation error) = (0.3356, 0.3355)\n",
      "C = 10: (avg train error, avg validation error) = (0.0334, 0.0334)\n",
      "C = 100: (avg train error, avg validation error) = (0.0000, 0.0000)\n"
     ]
    }
   ],
   "source": [
    "#Selecting best C for RBF SVM Model (gamma=auto)\n",
    "C_values = [0.01, 0.1, 1.0, 10, 100]\n",
    "cv_val_avg_score = []\n",
    "skf = StratifiedKFold(n_splits=5, shuffle=True, random_state=1)\n",
    "\n",
    "for C in C_values:\n",
    "\ttrain_errors = []\n",
    "\tval_errors = []\n",
    "\tfor train_idx, val_idx in skf.split(X_train, y_train):\n",
    "\t\tX_train_cv, X_val = X_train[train_idx], X_train[val_idx]\n",
    "\t\ty_train_cv, y_val = y_train[train_idx], y_train[val_idx]\n",
    "\t\tauto_svm = SVC(kernel='rbf',C=C, gamma='auto')\n",
    "\t\tauto_svm.fit(X_train, y_train)\n",
    "\t\t# validation error\n",
    "\t\ty_val_pred = auto_svm.predict(X_val)\n",
    "\t\tval_error = 1 - accuracy_score(y_val, y_val_pred)\n",
    "\t\tval_errors.append(val_error)\n",
    "\n",
    "\t\t# train error\n",
    "\t\ty_train_pred = auto_svm.predict(X_train_cv)\n",
    "\t\ttrain_error = 1 - accuracy_score(y_train_cv, y_train_pred)\n",
    "\t\ttrain_errors.append(train_error)\n",
    "\n",
    "\tavg_val_error = np.mean(val_errors)\n",
    "\tavg_train_error = np.mean(train_errors)\n",
    "\n",
    "\t# Report validation, test for each C\n",
    "\tprint(f\"C = {C}: (avg train error, avg validation error) = ({avg_train_error:.4f}, {avg_val_error:.4f})\")\n",
    "\n",
    "\tcv_val_avg_score.append(avg_val_error)\n"
   ]
  },
  {
   "cell_type": "code",
   "execution_count": 51,
   "id": "1db16077-645f-4633-9677-8c983799bbd4",
   "metadata": {},
   "outputs": [
    {
     "name": "stdout",
     "output_type": "stream",
     "text": [
      "Best C = 100, with lowest avg test error: 0.0000\n",
      "Final Test Error: 0.7510\n",
      "RBF SVM Performance Metrics with C=100, gamma='auto':\n",
      "Accuracy: 0.2490\n",
      "Precision: 0.2503\n",
      "Recall: 0.2490\n",
      "F1 Score: 0.2456\n",
      "\n",
      "Confusion Matrix:\n",
      "[[ 8  7  7  1  6  3]\n",
      " [ 4 19  9  6  8  1]\n",
      " [13  4 10  8  3  4]\n",
      " [ 6 13  5 14 11  3]\n",
      " [ 7  7 10  5 11  9]\n",
      " [10  7  7  4  5  2]]\n",
      "\n",
      "Classification Report:\n",
      "              precision    recall  f1-score   support\n",
      "\n",
      "           1       0.20      0.28      0.23        32\n",
      "           2       0.24      0.26      0.25        47\n",
      "           3       0.25      0.26      0.26        42\n",
      "           4       0.24      0.19      0.21        52\n",
      "           5       0.23      0.22      0.23        49\n",
      "           6       0.11      0.09      0.10        35\n",
      "\n",
      "    accuracy                           0.22       257\n",
      "   macro avg       0.21      0.22      0.21       257\n",
      "weighted avg       0.22      0.22      0.22       257\n",
      "\n"
     ]
    }
   ],
   "source": [
    "#Fit RBF model on best C (gamma='auto')\n",
    "lowest_val_error_index = np.argmin(cv_val_avg_score)\n",
    "C_chosen = C_values[lowest_val_error_index]\n",
    "\n",
    "print(f\"Best C = {C_chosen}, with lowest avg test error: {cv_val_avg_score[lowest_val_error_index]:.4f}\")\n",
    "\n",
    "\n",
    "final_model = SVC(kernel='rbf',C=C_chosen, gamma='auto')\n",
    "final_model.fit(X_train, y_train)\n",
    "\n",
    "y_test_pred = final_model.predict(X_test)\n",
    "final_test_error = 1 - accuracy_score(y_test, y_test_pred)\n",
    "\n",
    "accuracy = accuracy_score(y_test, y_test_pred)\n",
    "precision = precision_score(y_test, y_test_pred, average='weighted')  # Use 'macro' or 'weighted' for multi-class\n",
    "recall = recall_score(y_test, y_test_pred, average='weighted')\n",
    "f1 = f1_score(y_test, y_test_pred, average='weighted')\n",
    "conf_matrix = confusion_matrix(y_test, y_test_pred)\n",
    "\n",
    "print(f\"Final Test Error: {final_test_error:.4f}\")\n",
    "print(f\"RBF SVM Performance Metrics with C={C_chosen}, gamma='auto':\")\n",
    "print(f\"Accuracy: {accuracy:.4f}\")\n",
    "print(f\"Precision: {precision:.4f}\")\n",
    "print(f\"Recall: {recall:.4f}\")\n",
    "print(f\"F1 Score: {f1:.4f}\")\n",
    "print(\"\\nConfusion Matrix:\")\n",
    "print(conf_matrix)\n",
    "\n",
    "print(\"\\nClassification Report:\")\n",
    "print(classification_report(y_test, y_pred))"
   ]
  },
  {
   "cell_type": "code",
   "execution_count": 52,
   "id": "f7d2fd07-3c95-42b3-93aa-34ae4462bad4",
   "metadata": {},
   "outputs": [
    {
     "name": "stdout",
     "output_type": "stream",
     "text": [
      "C = 0.01: (avg train error, avg validation error) = (0.8180, 0.8180)\n",
      "C = 0.1: (avg train error, avg validation error) = (0.8063, 0.8063)\n",
      "C = 1.0: (avg train error, avg validation error) = (0.3356, 0.3355)\n",
      "C = 10: (avg train error, avg validation error) = (0.0334, 0.0334)\n",
      "C = 100: (avg train error, avg validation error) = (0.0000, 0.0000)\n"
     ]
    }
   ],
   "source": [
    "#Selecting best C for RBF SVM Model (gamma=scale)\n",
    "C_values = [0.01, 0.1, 1.0, 10, 100]\n",
    "cv_val_avg_score = []\n",
    "skf = StratifiedKFold(n_splits=5, shuffle=True, random_state=1)\n",
    "\n",
    "for C in C_values:\n",
    "\ttrain_errors = []\n",
    "\tval_errors = []\n",
    "\tfor train_idx, val_idx in skf.split(X_train, y_train):\n",
    "\t\tX_train_cv, X_val = X_train[train_idx], X_train[val_idx]\n",
    "\t\ty_train_cv, y_val = y_train[train_idx], y_train[val_idx]\n",
    "\t\tscale_svm = SVC(kernel='rbf',C=C, gamma='scale')\n",
    "\t\tscale_svm.fit(X_train, y_train)\n",
    "\t\t# validation error\n",
    "\t\ty_val_pred = scale_svm.predict(X_val)\n",
    "\t\tval_error = 1 - accuracy_score(y_val, y_val_pred)\n",
    "\t\tval_errors.append(val_error)\n",
    "\n",
    "\t\t# train error\n",
    "\t\ty_train_pred = scale_svm.predict(X_train_cv)\n",
    "\t\ttrain_error = 1 - accuracy_score(y_train_cv, y_train_pred)\n",
    "\t\ttrain_errors.append(train_error)\n",
    "\n",
    "\tavg_val_error = np.mean(val_errors)\n",
    "\tavg_train_error = np.mean(train_errors)\n",
    "\n",
    "\t# Report validation, test for each C\n",
    "\tprint(f\"C = {C}: (avg train error, avg validation error) = ({avg_train_error:.4f}, {avg_val_error:.4f})\")\n",
    "\n",
    "\tcv_val_avg_score.append(avg_val_error)"
   ]
  },
  {
   "cell_type": "code",
   "execution_count": 53,
   "id": "a9c0021f-c910-47d2-8bfd-b5335f06d148",
   "metadata": {},
   "outputs": [
    {
     "name": "stdout",
     "output_type": "stream",
     "text": [
      "Best C = 100, with lowest avg test error: 0.0000\n",
      "Final Test Error: 0.7510\n",
      "RBF SVM Performance Metrics with C=100, gamma='scale':\n",
      "Accuracy: 0.2490\n",
      "Precision: 0.2503\n",
      "Recall: 0.2490\n",
      "F1 Score: 0.2456\n",
      "\n",
      "Confusion Matrix:\n",
      "[[ 8  7  7  1  6  3]\n",
      " [ 4 19  9  6  8  1]\n",
      " [13  4 10  8  3  4]\n",
      " [ 6 13  5 14 11  3]\n",
      " [ 7  7 10  5 11  9]\n",
      " [10  7  7  4  5  2]]\n",
      "\n",
      "Classification Report:\n",
      "              precision    recall  f1-score   support\n",
      "\n",
      "           1       0.20      0.28      0.23        32\n",
      "           2       0.24      0.26      0.25        47\n",
      "           3       0.25      0.26      0.26        42\n",
      "           4       0.24      0.19      0.21        52\n",
      "           5       0.23      0.22      0.23        49\n",
      "           6       0.11      0.09      0.10        35\n",
      "\n",
      "    accuracy                           0.22       257\n",
      "   macro avg       0.21      0.22      0.21       257\n",
      "weighted avg       0.22      0.22      0.22       257\n",
      "\n"
     ]
    }
   ],
   "source": [
    "#Fit RBF model on best C (gamma='scale')\n",
    "lowest_val_error_index = np.argmin(cv_val_avg_score)\n",
    "C_chosen = C_values[lowest_val_error_index]\n",
    "\n",
    "print(f\"Best C = {C_chosen}, with lowest avg test error: {cv_val_avg_score[lowest_val_error_index]:.4f}\")\n",
    "\n",
    "\n",
    "final_model = SVC(kernel='rbf',C=C_chosen, gamma='scale')\n",
    "final_model.fit(X_train, y_train)\n",
    "\n",
    "y_test_pred = final_model.predict(X_test)\n",
    "final_test_error = 1 - accuracy_score(y_test, y_test_pred)\n",
    "\n",
    "accuracy = accuracy_score(y_test, y_test_pred)\n",
    "precision = precision_score(y_test, y_test_pred, average='weighted')  # Use 'macro' or 'weighted' for multi-class\n",
    "recall = recall_score(y_test, y_test_pred, average='weighted')\n",
    "f1 = f1_score(y_test, y_test_pred, average='weighted')\n",
    "conf_matrix = confusion_matrix(y_test, y_test_pred)\n",
    "\n",
    "print(f\"Final Test Error: {final_test_error:.4f}\")\n",
    "print(f\"RBF SVM Performance Metrics with C={C_chosen}, gamma='scale':\")\n",
    "print(f\"Accuracy: {accuracy:.4f}\")\n",
    "print(f\"Precision: {precision:.4f}\")\n",
    "print(f\"Recall: {recall:.4f}\")\n",
    "print(f\"F1 Score: {f1:.4f}\")\n",
    "print(\"\\nConfusion Matrix:\")\n",
    "print(conf_matrix)\n",
    "\n",
    "print(\"\\nClassification Report:\")\n",
    "print(classification_report(y_test, y_pred))"
   ]
  },
  {
   "cell_type": "code",
   "execution_count": null,
   "id": "73c2824a-ec66-4c91-8735-a2137dcfdb55",
   "metadata": {},
   "outputs": [],
   "source": []
  }
 ],
 "metadata": {
  "kernelspec": {
   "display_name": "Python 3 (ipykernel)",
   "language": "python",
   "name": "python3"
  },
  "language_info": {
   "codemirror_mode": {
    "name": "ipython",
    "version": 3
   },
   "file_extension": ".py",
   "mimetype": "text/x-python",
   "name": "python",
   "nbconvert_exporter": "python",
   "pygments_lexer": "ipython3",
   "version": "3.11.7"
  }
 },
 "nbformat": 4,
 "nbformat_minor": 5
}
